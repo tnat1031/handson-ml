{
 "cells": [
  {
   "cell_type": "markdown",
   "metadata": {},
   "source": [
    "# Chapter 4: Training Models"
   ]
  },
  {
   "cell_type": "markdown",
   "metadata": {},
   "source": [
    "1. What linear regression training algorithm can you use if you have a training set with millions of features?\n",
    "\n",
    "Probably mini-batch or stochasitc gradient descent would be good here, since neither needs to operate on all the features at once.\n",
    "\n",
    "2. Suppose the features in your training set have very different scales. What algorithms might suffer from this, and how? What might you do about it?\n",
    "\n",
    "Any gradient descent algorithm would suffer because certain features could skew the gradients simply by virtue of being on a different scale. This can be addressed by rescaling the features so that they are all on the same scale.\n",
    "\n",
    "3. Can gradient descent get stuck in a local minimum when training a logistic regression model?\n",
    "\n",
    "No, because the logistic regression cost function is convex.\n",
    "\n",
    "4. Do all gradient descent algorithms lead to the same model provided you let them run long enough?\n",
    "\n",
    "It depends on the learning rate. If this is set too high, the algorithm may never converge no matter how long it runs.\n",
    "**NB** also if the cost function has local minima you could get stuck in one of those, which could lead to different solutions.\n",
    "\n",
    "5. Suppose you use batch gradient descent and you plot the validation error at every epoch. If you notice that the validation error consistently goes up, what is likely going on? How can you fix this?\n",
    "\n",
    "It's likely that the model is over-fitting to the training data. This can be addressed by regularizing and/or feeding the model more training data.\n",
    "\n",
    "6. Is it a good idea to stop mini-batch gradient descent immediately when the validation error goes up?\n",
    "\n",
    "Yes. Mini-batch should always be moving towards the optimal solution so if the validation error goes up that is a sign of over-fitting.\n",
    "\n",
    "**WRONG**. These algorithms are stochastic and thus their validation error may jump around a bit. A better approach is to stop once validation error has not improved after some amount of time.\n",
    "\n",
    "7. Which gradient descent algorithm (amongst those discussed) will reach the vicinity of the optimal solution fastest? Which will actually converge? How can you make the others converge as well?\n",
    "\n",
    "Stochastic will reach the vicinity fastest but may not converge. Mini-batch will be a little slower but should converge. Stochastic can be made to converge by decreasing the learning rate as a function of the number of epochs.\n",
    "**NB** batch gradient descent is also guaranteed to converge.\n",
    "\n",
    "8. Suppose you are using polynomial regression. You plot the learning curves and you notice that there is a large gap between the training error and the validation error. What is happening? What are three ways to solve this?\n",
    "\n",
    "This is likely indicative of over-fitting and can be addressed by choosing a simpler polynomial model, using some type of regularization, or re-shuffling the training/validation data to make sure the training data doesn't have some kind of bias.\n",
    "\n",
    "9. Suppose you are using ridge regression and you notice that the training error and the validation error are almost equal and fairly high. Would you say that the model suffers from high bias or high variance? Should you increase the regularization hyperparameter alpha or reduce it?\n",
    "\n",
    "I would say the model has high bias, since it seems that the model is not fitting the training or validation data well, suggesting the assumptions of the model do not align with the actual properties of the data. I would decrease alpha to allow the model to better fit the data.\n",
    "\n",
    "10. Why would you want to use:\n",
    "\n",
    "* Ridge regression instead of plain linear regression (i.e. without any regularization)?\n",
    "\n",
    "This doesn't make sense, as ridge w/o regularization *IS* plain linear regression.\n",
    "\n",
    "* Lasso instead of ridge regression?\n",
    "\n",
    "Lasso is useful if you want to completely eliminate the weights of features that you think are unimportant.\n",
    "\n",
    "* Elastic net instead of lasso?\n",
    "\n",
    "You'd do this if you weren't sure whether you wanted to completely eliminate the unimportant features but did want to make sure they were down-weighted.\n",
    "**NB** Lasso may behave erratically when some of the features are correlated and/or when there are many more features  than samples.\n",
    "\n",
    "11. Suppose you want to classify pictures as outdoor/indoor and daytime/nighttime. Should you implement two logistic regression classifiers or one softmax regression classifier?\n",
    "\n",
    "I'd say use one softmax regression classifier and have it distinguish b/w the 4 possible combinations of outdoor/day, outdoor/night, indoor/day, indoor/night.\n",
    "**WRONG**. Kinda misunderstood the question. But the idea is that you don't care about distinguishing all 4 classes, just outdoor/indoor and daytime/nighttime. So in that case it makes more sense to train 2 logistic regression classifiers."
   ]
  },
  {
   "cell_type": "code",
   "execution_count": null,
   "metadata": {
    "collapsed": true
   },
   "outputs": [],
   "source": []
  }
 ],
 "metadata": {
  "kernelspec": {
   "display_name": "Python 3",
   "language": "python",
   "name": "python3"
  },
  "language_info": {
   "codemirror_mode": {
    "name": "ipython",
    "version": 3
   },
   "file_extension": ".py",
   "mimetype": "text/x-python",
   "name": "python",
   "nbconvert_exporter": "python",
   "pygments_lexer": "ipython3",
   "version": "3.5.4"
  }
 },
 "nbformat": 4,
 "nbformat_minor": 2
}
